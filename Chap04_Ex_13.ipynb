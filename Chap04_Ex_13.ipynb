{
  "nbformat": 4,
  "nbformat_minor": 0,
  "metadata": {
    "colab": {
      "name": "Chap04_Ex-13.ipynb",
      "provenance": [],
      "authorship_tag": "ABX9TyPmlD4sS1aoVmNgFyKdgxrK",
      "include_colab_link": true
    },
    "kernelspec": {
      "name": "python3",
      "display_name": "Python 3"
    },
    "language_info": {
      "name": "python"
    }
  },
  "cells": [
    {
      "cell_type": "markdown",
      "metadata": {
        "id": "view-in-github",
        "colab_type": "text"
      },
      "source": [
        "<a href=\"https://colab.research.google.com/github/TanakaSeiju/EU_M_Math-Repository/blob/main/Chap04_Ex_13.ipynb\" target=\"_parent\"><img src=\"https://colab.research.google.com/assets/colab-badge.svg\" alt=\"Open In Colab\"/></a>"
      ]
    },
    {
      "cell_type": "code",
      "execution_count": 1,
      "metadata": {
        "colab": {
          "base_uri": "https://localhost:8080/"
        },
        "id": "8iJqPaSw2hsS",
        "outputId": "8e76a018-77ff-4634-e511-cb87888995ff"
      },
      "outputs": [
        {
          "output_type": "stream",
          "name": "stdout",
          "text": [
            "G2数学の成績平均: 10.712041884816754\n",
            "G2ポルトガル語の成績平均: 12.238219895287958\n",
            "G2のp値 =  1.653655521710079e-16 \n",
            "\n",
            "G3数学の成績平均: 10.387434554973822\n",
            "G3ポルトガル語の成績平均: 12.515706806282722\n",
            "G3のp値 =  1.653655521710079e-16\n"
          ]
        }
      ],
      "source": [
        "import numpy as np\n",
        "import pandas as pd\n",
        "import matplotlib.pyplot as plt\n",
        "import requests, zipfile\n",
        "from io import StringIO\n",
        "import io\n",
        "import math\n",
        "from scipy import stats\n",
        "\n",
        "url = 'http://archive.ics.uci.edu/ml/machine-learning-databases/00356/student.zip'\n",
        "\n",
        "r = requests.get(url, stream = True)\n",
        "\n",
        "z = zipfile.ZipFile(io.BytesIO(r.content))\n",
        "z.extractall()\n",
        "student_data_math = pd.read_csv(\"student-mat.csv\",sep = \";\")\n",
        "student_data_por = pd.read_csv(\"student-por.csv\",sep = \";\")\n",
        "\n",
        "student_data_merge = pd.merge(student_data_math, student_data_por,\n",
        "                              on = [\"school\", \"sex\", \"age\", \"address\", \"famsize\", \"Pstatus\", \"Medu\",\n",
        "                                        \"Fedu\", \"Mjob\", \"Fjob\", \"reason\", \"nursery\", \"internet\"],\n",
        "                              suffixes = (\"_math\", \"_por\"))\n",
        "\n",
        "print(\"G2数学の成績平均:\", student_data_merge.G2_math.mean())\n",
        "print(\"G2ポルトガル語の成績平均:\", student_data_merge.G2_por.mean())\n",
        "\n",
        "t2, p2 = stats.ttest_rel(student_data_merge.G1_math, student_data_merge.G1_por)\n",
        "print(\"G2のp値 = \", p2, \"\\n\")\n",
        "\n",
        "print(\"G3数学の成績平均:\", student_data_merge.G3_math.mean())\n",
        "print(\"G3ポルトガル語の成績平均:\", student_data_merge.G3_por.mean())\n",
        "\n",
        "t3, p3 = stats.ttest_rel(student_data_merge.G1_math, student_data_merge.G1_por)\n",
        "print(\"G3のp値 = \", p3)"
      ]
    },
    {
      "cell_type": "code",
      "source": [
        "#上記よりG2、G3ともに有意差が1％未満のため、差があると言える。"
      ],
      "metadata": {
        "id": "Awx3lj5K2t_m"
      },
      "execution_count": null,
      "outputs": []
    }
  ]
}