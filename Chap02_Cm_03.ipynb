{
  "nbformat": 4,
  "nbformat_minor": 0,
  "metadata": {
    "colab": {
      "name": "Chap02_Cm-03.ipynb",
      "provenance": [],
      "authorship_tag": "ABX9TyP9IsHRbwKRbFzQv0kYN42h",
      "include_colab_link": true
    },
    "kernelspec": {
      "name": "python3",
      "display_name": "Python 3"
    },
    "language_info": {
      "name": "python"
    }
  },
  "cells": [
    {
      "cell_type": "markdown",
      "metadata": {
        "id": "view-in-github",
        "colab_type": "text"
      },
      "source": [
        "<a href=\"https://colab.research.google.com/github/TanakaSeiju/EU_M_Math-Repository/blob/main/Chap02_Cm_03.ipynb\" target=\"_parent\"><img src=\"https://colab.research.google.com/assets/colab-badge.svg\" alt=\"Open In Colab\"/></a>"
      ]
    },
    {
      "cell_type": "code",
      "execution_count": 29,
      "metadata": {
        "colab": {
          "base_uri": "https://localhost:8080/"
        },
        "id": "78my4_7EGXPr",
        "outputId": "a6918ba6-1944-4c83-becc-eed80b87d365"
      },
      "outputs": [
        {
          "output_type": "stream",
          "name": "stdout",
          "text": [
            "π: 3.1404\n"
          ]
        }
      ],
      "source": [
        "import numpy as np\n",
        "import matplotlib.pyplot as plt\n",
        "import math\n",
        "\n",
        "N_in = 0 \n",
        "N_out = 0\n",
        "\n",
        "#試行回数\n",
        "N = 10000\n",
        "\n",
        "#乱数の指定\n",
        "x = np.random.uniform(0.0, 1.0, N)\n",
        "y = np.random.uniform(0.0, 1.0, N)\n",
        "\n",
        "for i in np.hypot(x, y):\n",
        "  if  i < 1:\n",
        "       N_in += 1\n",
        "  else:\n",
        "       N_out += 1\n",
        "\n",
        "#πの近似\n",
        "PI = N_in / N *4\n",
        "\n",
        "print(\"π:\",PI)"
      ]
    },
    {
      "cell_type": "code",
      "source": [
        ""
      ],
      "metadata": {
        "id": "IOwYLJ-Nu5tM"
      },
      "execution_count": null,
      "outputs": []
    }
  ]
}