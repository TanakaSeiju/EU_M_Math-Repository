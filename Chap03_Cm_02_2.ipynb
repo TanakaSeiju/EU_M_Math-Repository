{
  "nbformat": 4,
  "nbformat_minor": 0,
  "metadata": {
    "colab": {
      "name": "Chap03_Cm-02-2.ipynb",
      "provenance": [],
      "authorship_tag": "ABX9TyMKsksriVyEEZmdREfS2PTA",
      "include_colab_link": true
    },
    "kernelspec": {
      "name": "python3",
      "display_name": "Python 3"
    },
    "language_info": {
      "name": "python"
    }
  },
  "cells": [
    {
      "cell_type": "markdown",
      "metadata": {
        "id": "view-in-github",
        "colab_type": "text"
      },
      "source": [
        "<a href=\"https://colab.research.google.com/github/TanakaSeiju/EU_M_Math-Repository/blob/main/Chap03_Cm_02_2.ipynb\" target=\"_parent\"><img src=\"https://colab.research.google.com/assets/colab-badge.svg\" alt=\"Open In Colab\"/></a>"
      ]
    },
    {
      "cell_type": "code",
      "execution_count": 16,
      "metadata": {
        "id": "ye3LvkOLlWPk"
      },
      "outputs": [],
      "source": [
        "import numpy as np\n",
        "import pandas as pd\n",
        "import matplotlib.pyplot as plt\n",
        "import requests, zipfile\n",
        "from io import StringIO\n",
        "import io\n",
        "import math\n",
        "\n",
        "url = 'http://archive.ics.uci.edu/ml/machine-learning-databases/00356/student.zip'\n",
        "\n",
        "r = requests.get(url, stream = True)\n",
        "\n",
        "z = zipfile.ZipFile(io.BytesIO(r.content))\n",
        "z.extractall()\n",
        "student_data_math = pd.read_csv(\"student-mat.csv\",sep = \";\")\n",
        "\n",
        "student_data_math_F = student_data_math[student_data_math.sex == \"F\"]\n",
        "student_data_math_M = student_data_math[student_data_math.sex == \"M\"]\n",
        "\n",
        "#数学の値の並び替え\n",
        "student_data_F = student_data_math_F.G1.sort_values()\n",
        "student_data_M = student_data_math_M.G1.sort_values()\n",
        "\n"
      ]
    },
    {
      "cell_type": "code",
      "source": [
        "import math\n",
        "\n",
        "def gini(x):\n",
        "    m = np.mean(x)\n",
        "    n = len(x)\n",
        "    a = float(2 * m * n**2)\n",
        "    ysum = 0.0\n",
        "    for i in range(n):\n",
        "      for j in range(n):\n",
        "        ysum = ysum +(np.abs(x[i]-x[j]))\n",
        "    \n",
        "    return (ysum/a)"
      ],
      "metadata": {
        "id": "WliET3KvluBQ"
      },
      "execution_count": 18,
      "outputs": []
    },
    {
      "cell_type": "code",
      "source": [
        "print(\"男性の数学の成績に関するジニ係数:\", gini(np.array(student_data_M)))\n",
        "print(\"女性の数学の成績に関するジニ係数:\", gini(np.array(student_data_F)))"
      ],
      "metadata": {
        "colab": {
          "base_uri": "https://localhost:8080/"
        },
        "id": "KahljIbSq_Fs",
        "outputId": "5fc39ad4-a64f-4024-9aa5-8b9b50640d44"
      },
      "execution_count": 27,
      "outputs": [
        {
          "output_type": "stream",
          "name": "stdout",
          "text": [
            "男性の数学の成績に関するジニ係数: 0.17197351667939903\n",
            "女性の数学の成績に関するジニ係数: 0.1723782950865341\n"
          ]
        }
      ]
    },
    {
      "cell_type": "code",
      "source": [
        ""
      ],
      "metadata": {
        "id": "IxZq_zPcrD_n"
      },
      "execution_count": null,
      "outputs": []
    }
  ]
}