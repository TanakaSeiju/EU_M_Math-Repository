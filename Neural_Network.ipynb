{
  "nbformat": 4,
  "nbformat_minor": 0,
  "metadata": {
    "colab": {
      "name": "Neural Network.ipynb",
      "provenance": [],
      "authorship_tag": "ABX9TyOATbR7JAAyYguskWLmBn5T",
      "include_colab_link": true
    },
    "kernelspec": {
      "name": "python3",
      "display_name": "Python 3"
    },
    "language_info": {
      "name": "python"
    }
  },
  "cells": [
    {
      "cell_type": "markdown",
      "metadata": {
        "id": "view-in-github",
        "colab_type": "text"
      },
      "source": [
        "<a href=\"https://colab.research.google.com/github/TanakaSeiju/EU_M_Math-Repository/blob/main/Neural_Network.ipynb\" target=\"_parent\"><img src=\"https://colab.research.google.com/assets/colab-badge.svg\" alt=\"Open In Colab\"/></a>"
      ]
    },
    {
      "cell_type": "code",
      "execution_count": 3,
      "metadata": {
        "colab": {
          "base_uri": "https://localhost:8080/"
        },
        "id": "r-aIPxwZb5tT",
        "outputId": "8593e506-7241-4a1d-d38a-1968df192928"
      },
      "outputs": [
        {
          "output_type": "stream",
          "name": "stdout",
          "text": [
            "Accuracy: 1.0\n"
          ]
        }
      ],
      "source": [
        "import numpy as np \n",
        "from sklearn.datasets import load_iris \n",
        "from sklearn.linear_model import Perceptron\n",
        "from sklearn.model_selection import train_test_split\n",
        "from sklearn.metrics import accuracy_score\n",
        "\n",
        "iris = load_iris()\n",
        "\n",
        "X = iris.data\n",
        "\n",
        "y = (iris.target == 0).astype(int)\n",
        "\n",
        "\n",
        "X_train, X_test, y_train, y_test = train_test_split(X, y, test_size = 0.3, random_state = 42, shuffle = True)\n",
        "\n",
        "pe = Perceptron()\n",
        "pe.fit(X_train, y_train)\n",
        "predictions = pe.predict(X_test)\n",
        "\n",
        "\n",
        "print(\"Accuracy: \"+str(accuracy_score(y_test, predictions)))\n",
        "\n"
      ]
    },
    {
      "cell_type": "code",
      "source": [
        "from pandas.core.common import random_state\n",
        "from sklearn.datasets import load_iris\n",
        "from sklearn.neural_network import MLPClassifier\n",
        "from sklearn.model_selection import train_test_split\n",
        "from sklearn.metrics import accuracy_score\n",
        "#データセットをロード\n",
        "iris = load_iris()\n",
        "#predictor と　target に分ける\n",
        "X = iris.data\n",
        "y = iris.target\n",
        "\n",
        "#データセットのシャッフルをして、トレーニング用とテスト用のデータに分ける\n",
        "X_train, X_test, y_train, y_test = train_test_split(X, y, test_size = 0.3, random_state = 42, shuffle = True)\n",
        "\n",
        "#モデルの評価をしっかりやりたい時は、validationのデータセットを作るのが良い。\n",
        "\n",
        "\n",
        "\n",
        "#二つのHidden Layer を追加、それぞれ10個のニューロンを持つ\n",
        "mlpc = MLPClassifier((10, 10), activation = \"relu\", learning_rate_init = 0.001, learning_rate = \"constant\", max_iter = 3000, random_state = 42)\n",
        "mlpc.fit(X_train, y_train)\n",
        "predictions = mlpc.predict(X_test)\n",
        "\n",
        "print(\"Accuracy: \"+str(accuracy_score(y_test, predictions)))"
      ],
      "metadata": {
        "colab": {
          "base_uri": "https://localhost:8080/"
        },
        "id": "ajaybTzkikpX",
        "outputId": "0a3e9a3e-0673-4e9a-c78e-ae4e798875ad"
      },
      "execution_count": 4,
      "outputs": [
        {
          "output_type": "stream",
          "name": "stdout",
          "text": [
            "Accuracy: 0.9777777777777777\n"
          ]
        }
      ]
    },
    {
      "cell_type": "code",
      "source": [
        "mlpc.predict_proba(X_test[0].reshape(1,-1)).sum()"
      ],
      "metadata": {
        "colab": {
          "base_uri": "https://localhost:8080/"
        },
        "id": "eXRxJjpvoiub",
        "outputId": "a1231980-26e5-4d73-85c5-baef81ab5ab4"
      },
      "execution_count": 5,
      "outputs": [
        {
          "output_type": "execute_result",
          "data": {
            "text/plain": [
              "1.0"
            ]
          },
          "metadata": {},
          "execution_count": 5
        }
      ]
    },
    {
      "cell_type": "code",
      "source": [
        "from sklearn.datasets import load_boston\n",
        "from sklearn.neural_network import MLPRegressor\n",
        "from sklearn.model_selection import train_test_split\n",
        "from sklearn.metrics import mean_squared_error\n",
        "\n",
        "#データセットをロード\n",
        "bos = load_boston()\n",
        "X = bos[\"data\"]\n",
        "y = bos[\"target\"]\n",
        "\n",
        "#テストとトレーニングのデータセットに分ける\n",
        "#モデルの評価をしっかりやりたい時は、validationのデータセットを作るのが良い。\n",
        "X_train, X_test, y_train, y_test = train_test_split(X, y, test_size = 0.3, random_state = 42, shuffle = True)\n",
        "\n",
        "\n",
        "\n",
        "#２個のhidden layerを追加　activation function は relu.\n",
        "mlpr = MLPRegressor((10, 10), activation = \"relu\", learning_rate = \"constant\", learning_rate_init = 0.001, max_iter = 3000, random_state = 0)\n",
        "mlpr.fit(X_train, y_train)\n",
        "predictions = mlpr.predict(X_test) \n",
        "\n",
        "#RSMEを計算\n",
        "error = mean_squared_error(y_test, predictions) ** (1/2)\n",
        "print(\"RSME: \"+str(error)) \n"
      ],
      "metadata": {
        "colab": {
          "base_uri": "https://localhost:8080/"
        },
        "id": "54azprqBpCUP",
        "outputId": "8340f546-1aaf-499d-d030-6148c09129e6"
      },
      "execution_count": 6,
      "outputs": [
        {
          "output_type": "stream",
          "name": "stderr",
          "text": [
            "/usr/local/lib/python3.7/dist-packages/sklearn/utils/deprecation.py:87: FutureWarning: Function load_boston is deprecated; `load_boston` is deprecated in 1.0 and will be removed in 1.2.\n",
            "\n",
            "    The Boston housing prices dataset has an ethical problem. You can refer to\n",
            "    the documentation of this function for further details.\n",
            "\n",
            "    The scikit-learn maintainers therefore strongly discourage the use of this\n",
            "    dataset unless the purpose of the code is to study and educate about\n",
            "    ethical issues in data science and machine learning.\n",
            "\n",
            "    In this special case, you can fetch the dataset from the original\n",
            "    source::\n",
            "\n",
            "        import pandas as pd\n",
            "        import numpy as np\n",
            "\n",
            "\n",
            "        data_url = \"http://lib.stat.cmu.edu/datasets/boston\"\n",
            "        raw_df = pd.read_csv(data_url, sep=\"\\s+\", skiprows=22, header=None)\n",
            "        data = np.hstack([raw_df.values[::2, :], raw_df.values[1::2, :2]])\n",
            "        target = raw_df.values[1::2, 2]\n",
            "\n",
            "    Alternative datasets include the California housing dataset (i.e.\n",
            "    :func:`~sklearn.datasets.fetch_california_housing`) and the Ames housing\n",
            "    dataset. You can load the datasets as follows::\n",
            "\n",
            "        from sklearn.datasets import fetch_california_housing\n",
            "        housing = fetch_california_housing()\n",
            "\n",
            "    for the California housing dataset and::\n",
            "\n",
            "        from sklearn.datasets import fetch_openml\n",
            "        housing = fetch_openml(name=\"house_prices\", as_frame=True)\n",
            "\n",
            "    for the Ames housing dataset.\n",
            "    \n",
            "  warnings.warn(msg, category=FutureWarning)\n"
          ]
        },
        {
          "output_type": "stream",
          "name": "stdout",
          "text": [
            "RSME: 4.643026081467651\n"
          ]
        }
      ]
    },
    {
      "cell_type": "code",
      "source": [
        "from sklearn.datasets import load_iris\n",
        "from sklearn.neural_network import MLPClassifier\n",
        "from sklearn.model_selection import train_test_split\n",
        "from sklearn.metrics import accuracy_score\n",
        "#データセットをロード\n",
        "iris = load_iris()\n",
        "#predictor と　target に分ける\n",
        "X = iris.data\n",
        "Y = iris.target\n",
        "\n",
        "#データセットのシャッフルをして、トレーニング用とテスト用のデータに分ける\n",
        "#モデルの評価をしっかりやりたい時は、validationのデータセットを作るのが良い。\n",
        "X_train, X_test, y_train, y_test = train_test_split(X, Y, test_size = 0.3, random_state = 42, shuffle = True)\n",
        "\n",
        "#二つのHidden Layer を追加、それぞれ10個のニューロンを持つ\n",
        "mlpc = MLPClassifier((10, 10), activation = \"relu\", learning_rate = \"constant\", learning_rate_init = 0.001, max_iter = 1000, random_state = 42)\n",
        "mlpc.fit(X_train, y_train)\n",
        "predictions = mlpc.predict(X_test) \n",
        "print(\"Accuracy:\" +str(accuracy_score(y_test, predictions)))\n"
      ],
      "metadata": {
        "id": "RW1L7bliqwXw",
        "colab": {
          "base_uri": "https://localhost:8080/"
        },
        "outputId": "920bdea2-c355-4360-b161-fb02b013aff8"
      },
      "execution_count": 7,
      "outputs": [
        {
          "output_type": "stream",
          "name": "stdout",
          "text": [
            "Accuracy:0.9777777777777777\n"
          ]
        }
      ]
    },
    {
      "cell_type": "code",
      "source": [
        "mlpc.predict_proba(X_test[0].reshape(1, -1)).sum()"
      ],
      "metadata": {
        "colab": {
          "base_uri": "https://localhost:8080/"
        },
        "id": "uownE4I09Jro",
        "outputId": "98baea20-e865-4a7b-e3a3-0f7e07f70e55"
      },
      "execution_count": 8,
      "outputs": [
        {
          "output_type": "execute_result",
          "data": {
            "text/plain": [
              "1.0"
            ]
          },
          "metadata": {},
          "execution_count": 8
        }
      ]
    },
    {
      "cell_type": "code",
      "source": [
        "from sklearn.datasets import load_boston\n",
        "from sklearn.neural_network import MLPRegressor\n",
        "from sklearn.model_selection import train_test_split\n",
        "from sklearn.metrics import mean_squared_error\n",
        "\n",
        "#データセットをロード\n",
        "boston = load_boston()\n",
        "X = boston[\"data\"]\n",
        "Y = boston[\"target\"]\n",
        "#テストとトレーニングのデータセットに分ける\n",
        "#モデルの評価をしっかりやりたい時は、validationのデータセットを作るのが良い。\n",
        "X_train, X_test, y_train, y_test = train_test_split(X, Y, test_size = 0.3, random_state = 42, shuffle = True)\n",
        "\n",
        "#２個のhidden layerを追加　activation function は relu.\n",
        "mlpr = MLPRegressor((10, 10), activation = \"relu\", learning_rate = \"constant\", learning_rate_init = 0.001, max_iter = 3000, random_state = 42)\n",
        "mlpr.fit(X_train, y_train)\n",
        "predictions = mlpr.predict(X_test) \n",
        "\n",
        "#RSMEを計算\n",
        "error = mean_squared_error(y_test, predictions) ** (1/2)\n",
        "print(\"RSME: \"+str(error)) \n"
      ],
      "metadata": {
        "colab": {
          "base_uri": "https://localhost:8080/"
        },
        "id": "hT15VBHR-paO",
        "outputId": "dc12b453-eaed-403c-a7af-5e04f090b51f"
      },
      "execution_count": 9,
      "outputs": [
        {
          "output_type": "stream",
          "name": "stderr",
          "text": [
            "/usr/local/lib/python3.7/dist-packages/sklearn/utils/deprecation.py:87: FutureWarning: Function load_boston is deprecated; `load_boston` is deprecated in 1.0 and will be removed in 1.2.\n",
            "\n",
            "    The Boston housing prices dataset has an ethical problem. You can refer to\n",
            "    the documentation of this function for further details.\n",
            "\n",
            "    The scikit-learn maintainers therefore strongly discourage the use of this\n",
            "    dataset unless the purpose of the code is to study and educate about\n",
            "    ethical issues in data science and machine learning.\n",
            "\n",
            "    In this special case, you can fetch the dataset from the original\n",
            "    source::\n",
            "\n",
            "        import pandas as pd\n",
            "        import numpy as np\n",
            "\n",
            "\n",
            "        data_url = \"http://lib.stat.cmu.edu/datasets/boston\"\n",
            "        raw_df = pd.read_csv(data_url, sep=\"\\s+\", skiprows=22, header=None)\n",
            "        data = np.hstack([raw_df.values[::2, :], raw_df.values[1::2, :2]])\n",
            "        target = raw_df.values[1::2, 2]\n",
            "\n",
            "    Alternative datasets include the California housing dataset (i.e.\n",
            "    :func:`~sklearn.datasets.fetch_california_housing`) and the Ames housing\n",
            "    dataset. You can load the datasets as follows::\n",
            "\n",
            "        from sklearn.datasets import fetch_california_housing\n",
            "        housing = fetch_california_housing()\n",
            "\n",
            "    for the California housing dataset and::\n",
            "\n",
            "        from sklearn.datasets import fetch_openml\n",
            "        housing = fetch_openml(name=\"house_prices\", as_frame=True)\n",
            "\n",
            "    for the Ames housing dataset.\n",
            "    \n",
            "  warnings.warn(msg, category=FutureWarning)\n"
          ]
        },
        {
          "output_type": "stream",
          "name": "stdout",
          "text": [
            "RSME: 4.699377521565086\n"
          ]
        }
      ]
    },
    {
      "cell_type": "code",
      "source": [
        "import tensorflow as tf \n",
        "from tensorflow import keras\n",
        "from sklearn.preprocessing import StandardScaler\n",
        "\n",
        "#データセットをダウンロード\n",
        "Keras = keras.datasets.boston_housing \n",
        "#データをtraining, validation, test に分ける\n",
        "(X_train, y_train), (X_test, y_test) = Keras.load_data()\n",
        "X_train, X_volid, y_train, y_volid = train_test_split(X_train, y_train)\n",
        "\n",
        "#変数をスケーリング　最適化を早くするため\n",
        "scaler = StandardScaler()\n",
        "X_train = scaler.fit_transform(X_train)\n",
        "X_volid = scaler.fit_transform(X_volid)\n",
        "X_test = scaler.fit_transform(X_test)\n",
        "\n",
        "#KerasのSequential model を使う\n",
        "Keras_model = keras.models.Sequential()\n",
        "#インプットレイヤーを追加\n",
        "Keras_model.add(tf.keras.Input(shape = X_train.shape[1:],))\n",
        "#Hidden layer を追加\n",
        "Keras_model.add(tf.keras.layers.Dense(30, activation = \"relu\"))\n",
        "#Output layer を追加\n",
        "Keras_model.add(tf.keras.layers.Dense(1))\n",
        "\n",
        "Keras_model.summary()\n",
        "\n",
        "#モデルをコンパイル\n",
        "Keras_model.compile(loss = \"mean_squared_error\", optimizer=\"sgd\",\n",
        "                    metrics=[tf.keras.metrics.RootMeanSquaredError(name = \"root_mean_squared_error\", dtype = None)])\n",
        "#モデルをトレーニング\n",
        "#validationのデータセットがあれば、それを渡すことで、validationに関してのlossやRMSEの計算なども簡単にできる。\n",
        "history = Keras_model.fit(X_train, y_train, epochs = 70, validation_data = (X_volid, y_volid))\n",
        "\n"
      ],
      "metadata": {
        "colab": {
          "base_uri": "https://localhost:8080/"
        },
        "id": "eG6jK0XuArsG",
        "outputId": "b699ea5a-2760-4336-d593-9e530955ebd6"
      },
      "execution_count": 10,
      "outputs": [
        {
          "output_type": "stream",
          "name": "stdout",
          "text": [
            "Model: \"sequential\"\n",
            "_________________________________________________________________\n",
            " Layer (type)                Output Shape              Param #   \n",
            "=================================================================\n",
            " dense (Dense)               (None, 30)                420       \n",
            "                                                                 \n",
            " dense_1 (Dense)             (None, 1)                 31        \n",
            "                                                                 \n",
            "=================================================================\n",
            "Total params: 451\n",
            "Trainable params: 451\n",
            "Non-trainable params: 0\n",
            "_________________________________________________________________\n",
            "Epoch 1/70\n",
            "10/10 [==============================] - 1s 26ms/step - loss: 216.1932 - root_mean_squared_error: 14.7035 - val_loss: 39.1648 - val_root_mean_squared_error: 6.2582\n",
            "Epoch 2/70\n",
            "10/10 [==============================] - 0s 8ms/step - loss: 25.3268 - root_mean_squared_error: 5.0326 - val_loss: 32.1124 - val_root_mean_squared_error: 5.6668\n",
            "Epoch 3/70\n",
            "10/10 [==============================] - 0s 9ms/step - loss: 16.9931 - root_mean_squared_error: 4.1223 - val_loss: 36.6196 - val_root_mean_squared_error: 6.0514\n",
            "Epoch 4/70\n",
            "10/10 [==============================] - 0s 8ms/step - loss: 16.0077 - root_mean_squared_error: 4.0010 - val_loss: 27.5388 - val_root_mean_squared_error: 5.2477\n",
            "Epoch 5/70\n",
            "10/10 [==============================] - 0s 7ms/step - loss: 11.8226 - root_mean_squared_error: 3.4384 - val_loss: 24.2903 - val_root_mean_squared_error: 4.9285\n",
            "Epoch 6/70\n",
            "10/10 [==============================] - 0s 6ms/step - loss: 10.8425 - root_mean_squared_error: 3.2928 - val_loss: 25.0444 - val_root_mean_squared_error: 5.0044\n",
            "Epoch 7/70\n",
            "10/10 [==============================] - 0s 6ms/step - loss: 10.3549 - root_mean_squared_error: 3.2179 - val_loss: 25.0567 - val_root_mean_squared_error: 5.0057\n",
            "Epoch 8/70\n",
            "10/10 [==============================] - 0s 6ms/step - loss: 9.6663 - root_mean_squared_error: 3.1091 - val_loss: 23.0756 - val_root_mean_squared_error: 4.8037\n",
            "Epoch 9/70\n",
            "10/10 [==============================] - 0s 5ms/step - loss: 9.4371 - root_mean_squared_error: 3.0720 - val_loss: 20.9157 - val_root_mean_squared_error: 4.5734\n",
            "Epoch 10/70\n",
            "10/10 [==============================] - 0s 24ms/step - loss: 9.7365 - root_mean_squared_error: 3.1203 - val_loss: 20.8910 - val_root_mean_squared_error: 4.5707\n",
            "Epoch 11/70\n",
            "10/10 [==============================] - 0s 27ms/step - loss: 8.5370 - root_mean_squared_error: 2.9218 - val_loss: 21.8231 - val_root_mean_squared_error: 4.6715\n",
            "Epoch 12/70\n",
            "10/10 [==============================] - 0s 25ms/step - loss: 8.7531 - root_mean_squared_error: 2.9586 - val_loss: 19.4920 - val_root_mean_squared_error: 4.4150\n",
            "Epoch 13/70\n",
            "10/10 [==============================] - 0s 19ms/step - loss: 9.9858 - root_mean_squared_error: 3.1600 - val_loss: 22.9176 - val_root_mean_squared_error: 4.7872\n",
            "Epoch 14/70\n",
            "10/10 [==============================] - 0s 6ms/step - loss: 9.7251 - root_mean_squared_error: 3.1185 - val_loss: 19.3443 - val_root_mean_squared_error: 4.3982\n",
            "Epoch 15/70\n",
            "10/10 [==============================] - 0s 7ms/step - loss: 11.6243 - root_mean_squared_error: 3.4094 - val_loss: 19.6042 - val_root_mean_squared_error: 4.4277\n",
            "Epoch 16/70\n",
            "10/10 [==============================] - 0s 5ms/step - loss: 8.9106 - root_mean_squared_error: 2.9851 - val_loss: 21.5414 - val_root_mean_squared_error: 4.6413\n",
            "Epoch 17/70\n",
            "10/10 [==============================] - 0s 5ms/step - loss: 7.6954 - root_mean_squared_error: 2.7741 - val_loss: 18.4142 - val_root_mean_squared_error: 4.2912\n",
            "Epoch 18/70\n",
            "10/10 [==============================] - 0s 6ms/step - loss: 8.0087 - root_mean_squared_error: 2.8300 - val_loss: 18.6242 - val_root_mean_squared_error: 4.3156\n",
            "Epoch 19/70\n",
            "10/10 [==============================] - 0s 12ms/step - loss: 9.8837 - root_mean_squared_error: 3.1438 - val_loss: 19.4966 - val_root_mean_squared_error: 4.4155\n",
            "Epoch 20/70\n",
            "10/10 [==============================] - 0s 19ms/step - loss: 7.9672 - root_mean_squared_error: 2.8226 - val_loss: 23.9753 - val_root_mean_squared_error: 4.8965\n",
            "Epoch 21/70\n",
            "10/10 [==============================] - 0s 19ms/step - loss: 8.5362 - root_mean_squared_error: 2.9217 - val_loss: 21.3904 - val_root_mean_squared_error: 4.6250\n",
            "Epoch 22/70\n",
            "10/10 [==============================] - 0s 24ms/step - loss: 7.9974 - root_mean_squared_error: 2.8280 - val_loss: 18.5145 - val_root_mean_squared_error: 4.3028\n",
            "Epoch 23/70\n",
            "10/10 [==============================] - 0s 18ms/step - loss: 7.8124 - root_mean_squared_error: 2.7951 - val_loss: 23.6680 - val_root_mean_squared_error: 4.8650\n",
            "Epoch 24/70\n",
            "10/10 [==============================] - 0s 6ms/step - loss: 7.6032 - root_mean_squared_error: 2.7574 - val_loss: 28.1284 - val_root_mean_squared_error: 5.3036\n",
            "Epoch 25/70\n",
            "10/10 [==============================] - 0s 7ms/step - loss: 9.6642 - root_mean_squared_error: 3.1087 - val_loss: 17.2650 - val_root_mean_squared_error: 4.1551\n",
            "Epoch 26/70\n",
            "10/10 [==============================] - 0s 7ms/step - loss: 7.2127 - root_mean_squared_error: 2.6857 - val_loss: 24.1053 - val_root_mean_squared_error: 4.9097\n",
            "Epoch 27/70\n",
            "10/10 [==============================] - 0s 8ms/step - loss: 7.8066 - root_mean_squared_error: 2.7940 - val_loss: 16.6304 - val_root_mean_squared_error: 4.0780\n",
            "Epoch 28/70\n",
            "10/10 [==============================] - 0s 8ms/step - loss: 6.8524 - root_mean_squared_error: 2.6177 - val_loss: 16.9463 - val_root_mean_squared_error: 4.1166\n",
            "Epoch 29/70\n",
            "10/10 [==============================] - 0s 12ms/step - loss: 7.0151 - root_mean_squared_error: 2.6486 - val_loss: 16.3085 - val_root_mean_squared_error: 4.0384\n",
            "Epoch 30/70\n",
            "10/10 [==============================] - 0s 20ms/step - loss: 6.5547 - root_mean_squared_error: 2.5602 - val_loss: 17.7157 - val_root_mean_squared_error: 4.2090\n",
            "Epoch 31/70\n",
            "10/10 [==============================] - 0s 23ms/step - loss: 7.3076 - root_mean_squared_error: 2.7033 - val_loss: 17.9720 - val_root_mean_squared_error: 4.2393\n",
            "Epoch 32/70\n",
            "10/10 [==============================] - 0s 25ms/step - loss: 7.3702 - root_mean_squared_error: 2.7148 - val_loss: 16.6940 - val_root_mean_squared_error: 4.0858\n",
            "Epoch 33/70\n",
            "10/10 [==============================] - 0s 16ms/step - loss: 6.8789 - root_mean_squared_error: 2.6228 - val_loss: 18.2825 - val_root_mean_squared_error: 4.2758\n",
            "Epoch 34/70\n",
            "10/10 [==============================] - 0s 8ms/step - loss: 6.7399 - root_mean_squared_error: 2.5961 - val_loss: 19.1447 - val_root_mean_squared_error: 4.3755\n",
            "Epoch 35/70\n",
            "10/10 [==============================] - 0s 6ms/step - loss: 7.4163 - root_mean_squared_error: 2.7233 - val_loss: 17.3174 - val_root_mean_squared_error: 4.1614\n",
            "Epoch 36/70\n",
            "10/10 [==============================] - 0s 6ms/step - loss: 6.7138 - root_mean_squared_error: 2.5911 - val_loss: 18.3854 - val_root_mean_squared_error: 4.2878\n",
            "Epoch 37/70\n",
            "10/10 [==============================] - 0s 6ms/step - loss: 6.4932 - root_mean_squared_error: 2.5482 - val_loss: 18.6947 - val_root_mean_squared_error: 4.3237\n",
            "Epoch 38/70\n",
            "10/10 [==============================] - 0s 6ms/step - loss: 6.8102 - root_mean_squared_error: 2.6096 - val_loss: 16.4655 - val_root_mean_squared_error: 4.0578\n",
            "Epoch 39/70\n",
            "10/10 [==============================] - 0s 6ms/step - loss: 6.6615 - root_mean_squared_error: 2.5810 - val_loss: 18.7479 - val_root_mean_squared_error: 4.3299\n",
            "Epoch 40/70\n",
            "10/10 [==============================] - 0s 8ms/step - loss: 6.3458 - root_mean_squared_error: 2.5191 - val_loss: 19.1521 - val_root_mean_squared_error: 4.3763\n",
            "Epoch 41/70\n",
            "10/10 [==============================] - 0s 6ms/step - loss: 6.6034 - root_mean_squared_error: 2.5697 - val_loss: 19.6476 - val_root_mean_squared_error: 4.4326\n",
            "Epoch 42/70\n",
            "10/10 [==============================] - 0s 7ms/step - loss: 6.2609 - root_mean_squared_error: 2.5022 - val_loss: 25.2539 - val_root_mean_squared_error: 5.0253\n",
            "Epoch 43/70\n",
            "10/10 [==============================] - 0s 5ms/step - loss: 6.6754 - root_mean_squared_error: 2.5837 - val_loss: 21.6825 - val_root_mean_squared_error: 4.6564\n",
            "Epoch 44/70\n",
            "10/10 [==============================] - 0s 7ms/step - loss: 6.7829 - root_mean_squared_error: 2.6044 - val_loss: 17.5546 - val_root_mean_squared_error: 4.1898\n",
            "Epoch 45/70\n",
            "10/10 [==============================] - 0s 6ms/step - loss: 6.2093 - root_mean_squared_error: 2.4918 - val_loss: 16.2854 - val_root_mean_squared_error: 4.0355\n",
            "Epoch 46/70\n",
            "10/10 [==============================] - 0s 6ms/step - loss: 6.2298 - root_mean_squared_error: 2.4960 - val_loss: 16.3361 - val_root_mean_squared_error: 4.0418\n",
            "Epoch 47/70\n",
            "10/10 [==============================] - 0s 8ms/step - loss: 6.7867 - root_mean_squared_error: 2.6051 - val_loss: 16.0792 - val_root_mean_squared_error: 4.0099\n",
            "Epoch 48/70\n",
            "10/10 [==============================] - 0s 5ms/step - loss: 6.7363 - root_mean_squared_error: 2.5954 - val_loss: 16.1960 - val_root_mean_squared_error: 4.0244\n",
            "Epoch 49/70\n",
            "10/10 [==============================] - 0s 5ms/step - loss: 5.6542 - root_mean_squared_error: 2.3779 - val_loss: 17.1716 - val_root_mean_squared_error: 4.1439\n",
            "Epoch 50/70\n",
            "10/10 [==============================] - 0s 8ms/step - loss: 6.0320 - root_mean_squared_error: 2.4560 - val_loss: 16.7788 - val_root_mean_squared_error: 4.0962\n",
            "Epoch 51/70\n",
            "10/10 [==============================] - 0s 7ms/step - loss: 6.3536 - root_mean_squared_error: 2.5206 - val_loss: 20.5378 - val_root_mean_squared_error: 4.5319\n",
            "Epoch 52/70\n",
            "10/10 [==============================] - 0s 5ms/step - loss: 6.9498 - root_mean_squared_error: 2.6362 - val_loss: 16.1956 - val_root_mean_squared_error: 4.0244\n",
            "Epoch 53/70\n",
            "10/10 [==============================] - 0s 7ms/step - loss: 5.7923 - root_mean_squared_error: 2.4067 - val_loss: 17.9511 - val_root_mean_squared_error: 4.2369\n",
            "Epoch 54/70\n",
            "10/10 [==============================] - 0s 5ms/step - loss: 5.9886 - root_mean_squared_error: 2.4472 - val_loss: 20.8257 - val_root_mean_squared_error: 4.5635\n",
            "Epoch 55/70\n",
            "10/10 [==============================] - 0s 7ms/step - loss: 6.2451 - root_mean_squared_error: 2.4990 - val_loss: 20.2628 - val_root_mean_squared_error: 4.5014\n",
            "Epoch 56/70\n",
            "10/10 [==============================] - 0s 9ms/step - loss: 6.3026 - root_mean_squared_error: 2.5105 - val_loss: 17.8214 - val_root_mean_squared_error: 4.2215\n",
            "Epoch 57/70\n",
            "10/10 [==============================] - 0s 7ms/step - loss: 5.8843 - root_mean_squared_error: 2.4258 - val_loss: 16.4383 - val_root_mean_squared_error: 4.0544\n",
            "Epoch 58/70\n",
            "10/10 [==============================] - 0s 7ms/step - loss: 5.5936 - root_mean_squared_error: 2.3651 - val_loss: 27.2519 - val_root_mean_squared_error: 5.2203\n",
            "Epoch 59/70\n",
            "10/10 [==============================] - 0s 5ms/step - loss: 8.7594 - root_mean_squared_error: 2.9596 - val_loss: 16.6889 - val_root_mean_squared_error: 4.0852\n",
            "Epoch 60/70\n",
            "10/10 [==============================] - 0s 5ms/step - loss: 5.8984 - root_mean_squared_error: 2.4287 - val_loss: 15.9054 - val_root_mean_squared_error: 3.9882\n",
            "Epoch 61/70\n",
            "10/10 [==============================] - 0s 6ms/step - loss: 5.1941 - root_mean_squared_error: 2.2791 - val_loss: 17.9333 - val_root_mean_squared_error: 4.2348\n",
            "Epoch 62/70\n",
            "10/10 [==============================] - 0s 5ms/step - loss: 5.8566 - root_mean_squared_error: 2.4200 - val_loss: 16.0197 - val_root_mean_squared_error: 4.0025\n",
            "Epoch 63/70\n",
            "10/10 [==============================] - 0s 6ms/step - loss: 5.5535 - root_mean_squared_error: 2.3566 - val_loss: 18.5300 - val_root_mean_squared_error: 4.3046\n",
            "Epoch 64/70\n",
            "10/10 [==============================] - 0s 7ms/step - loss: 5.6929 - root_mean_squared_error: 2.3860 - val_loss: 18.1979 - val_root_mean_squared_error: 4.2659\n",
            "Epoch 65/70\n",
            "10/10 [==============================] - 0s 7ms/step - loss: 5.4157 - root_mean_squared_error: 2.3272 - val_loss: 16.7073 - val_root_mean_squared_error: 4.0875\n",
            "Epoch 66/70\n",
            "10/10 [==============================] - 0s 6ms/step - loss: 6.3963 - root_mean_squared_error: 2.5291 - val_loss: 18.9850 - val_root_mean_squared_error: 4.3572\n",
            "Epoch 67/70\n",
            "10/10 [==============================] - 0s 8ms/step - loss: 5.3078 - root_mean_squared_error: 2.3039 - val_loss: 16.2291 - val_root_mean_squared_error: 4.0285\n",
            "Epoch 68/70\n",
            "10/10 [==============================] - 0s 5ms/step - loss: 5.4219 - root_mean_squared_error: 2.3285 - val_loss: 16.8373 - val_root_mean_squared_error: 4.1033\n",
            "Epoch 69/70\n",
            "10/10 [==============================] - 0s 8ms/step - loss: 5.6026 - root_mean_squared_error: 2.3670 - val_loss: 22.2154 - val_root_mean_squared_error: 4.7133\n",
            "Epoch 70/70\n",
            "10/10 [==============================] - 0s 5ms/step - loss: 5.0637 - root_mean_squared_error: 2.2503 - val_loss: 16.7032 - val_root_mean_squared_error: 4.0870\n"
          ]
        }
      ]
    },
    {
      "cell_type": "code",
      "source": [
        "import pandas as pd \n",
        "import matplotlib.pyplot as plt\n",
        "\n",
        "pd.DataFrame(history.history).plot(figsize = (10, 8))\n",
        "plt.grid(True)\n",
        "plt.gca().set_ylim(0, 60)\n",
        "plt.xlabel(\"# of Epocs\")\n",
        "plt.show()"
      ],
      "metadata": {
        "colab": {
          "base_uri": "https://localhost:8080/",
          "height": 501
        },
        "id": "7PZMrohnMTGL",
        "outputId": "0ea2358f-51ff-44b8-a424-48518f1a87c5"
      },
      "execution_count": 11,
      "outputs": [
        {
          "output_type": "display_data",
          "data": {
            "text/plain": [
              "<Figure size 720x576 with 1 Axes>"
            ],
            "image/png": "[encoded data removed]"
          },
          "metadata": {
            "needs_background": "light"
          }
        }
      ]
    },
    {
      "cell_type": "code",
      "source": [
        "(X_train, y_train), (X_test, y_test) = tf.keras.datasets.mnist.load_data(path = \"mnist.npz\")"
      ],
      "metadata": {
        "id": "jXN2hF2cO3yd"
      },
      "execution_count": 12,
      "outputs": []
    },
    {
      "cell_type": "code",
      "source": [
        "from matplotlib import pyplot as plt\n",
        "plt.imshow(X_train[0], cmap = \"Greys\")\n",
        "plt.show()"
      ],
      "metadata": {
        "colab": {
          "base_uri": "https://localhost:8080/",
          "height": 265
        },
        "id": "8LXvjIccPk7L",
        "outputId": "cee57cc4-e199-44cb-baeb-550a578c2799"
      },
      "execution_count": 13,
      "outputs": [
        {
          "output_type": "display_data",
          "data": {
            "text/plain": [
              "<Figure size 432x288 with 1 Axes>"
            ],
            "image/png": "[encoded data removed]"
          },
          "metadata": {
            "needs_background": "light"
          }
        }
      ]
    },
    {
      "cell_type": "code",
      "source": [
        "from sklearn import metrics\n",
        "import tensorflow as tf \n",
        "from tensorflow import keras\n",
        "from sklearn.preprocessing import StandardScaler\n",
        "\n",
        "#training と　validationに分ける\n",
        "X_train, X_valid, y_train, y_valid = train_test_split(X_train, y_train)\n",
        "\n",
        "#最適化のアルゴリズムを早くするために、変数をスケーリングします。\n",
        "X_train = X_train / 255.0\n",
        "X_valid = X_valid / 255.0\n",
        "X_test = X_test / 255.0\n",
        "\n",
        "keras_clf = keras.models.Sequential()\n",
        "\n",
        "#input layerを作る。もともとのinputのデータが2-Dなので、1Dにします。\n",
        "keras_clf.add(keras.layers.Flatten(input_shape = [28, 28]))\n",
        "#output layer を作る.10個のクラスがあるので、10個のニューロンが必要。\n",
        "keras_clf.add(keras.layers.Dense(10, activation = \"softmax\"))\n",
        "\n",
        "keras_clf.summary()\n",
        "keras_clf.compile(loss = \"sparse_categorical_crossentropy\", optimizer = \"sgd\", metrics = [\"accuracy\"])\n",
        "history = keras_clf.fit(X_train, y_train, epochs = 20, validation_data = (X_valid, y_valid))\n"
      ],
      "metadata": {
        "colab": {
          "base_uri": "https://localhost:8080/"
        },
        "id": "t_bqtqtDQH8o",
        "outputId": "fa596d54-f4ca-4094-de68-4719b485e38e"
      },
      "execution_count": 14,
      "outputs": [
        {
          "output_type": "stream",
          "name": "stdout",
          "text": [
            "Model: \"sequential_1\"\n",
            "_________________________________________________________________\n",
            " Layer (type)                Output Shape              Param #   \n",
            "=================================================================\n",
            " flatten (Flatten)           (None, 784)               0         \n",
            "                                                                 \n",
            " dense_2 (Dense)             (None, 10)                7850      \n",
            "                                                                 \n",
            "=================================================================\n",
            "Total params: 7,850\n",
            "Trainable params: 7,850\n",
            "Non-trainable params: 0\n",
            "_________________________________________________________________\n",
            "Epoch 1/20\n",
            "1407/1407 [==============================] - 5s 3ms/step - loss: 0.8581 - accuracy: 0.7959 - val_loss: 0.5571 - val_accuracy: 0.8627\n",
            "Epoch 2/20\n",
            "1407/1407 [==============================] - 4s 2ms/step - loss: 0.4898 - accuracy: 0.8750 - val_loss: 0.4619 - val_accuracy: 0.8771\n",
            "Epoch 3/20\n",
            "1407/1407 [==============================] - 4s 3ms/step - loss: 0.4266 - accuracy: 0.8867 - val_loss: 0.4203 - val_accuracy: 0.8864\n",
            "Epoch 4/20\n",
            "1407/1407 [==============================] - 4s 3ms/step - loss: 0.3951 - accuracy: 0.8928 - val_loss: 0.3975 - val_accuracy: 0.8917\n",
            "Epoch 5/20\n",
            "1407/1407 [==============================] - 4s 3ms/step - loss: 0.3756 - accuracy: 0.8973 - val_loss: 0.3830 - val_accuracy: 0.8949\n",
            "Epoch 6/20\n",
            "1407/1407 [==============================] - 4s 3ms/step - loss: 0.3614 - accuracy: 0.9007 - val_loss: 0.3726 - val_accuracy: 0.8969\n",
            "Epoch 7/20\n",
            "1407/1407 [==============================] - 4s 3ms/step - loss: 0.3510 - accuracy: 0.9032 - val_loss: 0.3634 - val_accuracy: 0.9001\n",
            "Epoch 8/20\n",
            "1407/1407 [==============================] - 4s 3ms/step - loss: 0.3426 - accuracy: 0.9049 - val_loss: 0.3567 - val_accuracy: 0.9013\n",
            "Epoch 9/20\n",
            "1407/1407 [==============================] - 4s 3ms/step - loss: 0.3357 - accuracy: 0.9066 - val_loss: 0.3513 - val_accuracy: 0.9024\n",
            "Epoch 10/20\n",
            "1407/1407 [==============================] - 4s 3ms/step - loss: 0.3299 - accuracy: 0.9080 - val_loss: 0.3462 - val_accuracy: 0.9046\n",
            "Epoch 11/20\n",
            "1407/1407 [==============================] - 4s 3ms/step - loss: 0.3249 - accuracy: 0.9093 - val_loss: 0.3436 - val_accuracy: 0.9045\n",
            "Epoch 12/20\n",
            "1407/1407 [==============================] - 5s 3ms/step - loss: 0.3206 - accuracy: 0.9101 - val_loss: 0.3392 - val_accuracy: 0.9061\n",
            "Epoch 13/20\n",
            "1407/1407 [==============================] - 4s 3ms/step - loss: 0.3169 - accuracy: 0.9114 - val_loss: 0.3363 - val_accuracy: 0.9064\n",
            "Epoch 14/20\n",
            "1407/1407 [==============================] - 4s 3ms/step - loss: 0.3136 - accuracy: 0.9119 - val_loss: 0.3338 - val_accuracy: 0.9075\n",
            "Epoch 15/20\n",
            "1407/1407 [==============================] - 5s 3ms/step - loss: 0.3105 - accuracy: 0.9130 - val_loss: 0.3311 - val_accuracy: 0.9077\n",
            "Epoch 16/20\n",
            "1407/1407 [==============================] - 4s 3ms/step - loss: 0.3077 - accuracy: 0.9142 - val_loss: 0.3294 - val_accuracy: 0.9082\n",
            "Epoch 17/20\n",
            "1407/1407 [==============================] - 4s 3ms/step - loss: 0.3052 - accuracy: 0.9144 - val_loss: 0.3270 - val_accuracy: 0.9097\n",
            "Epoch 18/20\n",
            "1407/1407 [==============================] - 4s 3ms/step - loss: 0.3028 - accuracy: 0.9151 - val_loss: 0.3255 - val_accuracy: 0.9099\n",
            "Epoch 19/20\n",
            "1407/1407 [==============================] - 4s 3ms/step - loss: 0.3007 - accuracy: 0.9156 - val_loss: 0.3239 - val_accuracy: 0.9103\n",
            "Epoch 20/20\n",
            "1407/1407 [==============================] - 4s 3ms/step - loss: 0.2987 - accuracy: 0.9159 - val_loss: 0.3229 - val_accuracy: 0.9108\n"
          ]
        }
      ]
    },
    {
      "cell_type": "code",
      "source": [
        "pd.DataFrame(history.history).plot(figsize=(8,5))\n",
        "plt.grid(True)\n",
        "plt.gca()\n",
        "plt.xlabel(\"# of Epocs\")\n",
        "plt.show()"
      ],
      "metadata": {
        "colab": {
          "base_uri": "https://localhost:8080/",
          "height": 334
        },
        "id": "xVrE2umCS408",
        "outputId": "5340e9ad-84e1-4e62-cc4c-c26082ad23b4"
      },
      "execution_count": 15,
      "outputs": [
        {
          "output_type": "display_data",
          "data": {
            "text/plain": [
              "<Figure size 576x360 with 1 Axes>"
            ],
            "image/png": "[encoded data removed]"
          },
          "metadata": {
            "needs_background": "light"
          }
        }
      ]
    },
    {
      "cell_type": "code",
      "source": [
        "#accuracyを計算\n",
        "from sklearn.metrics import accuracy_score\n",
        "print(\"Accuracy: \" +str(accuracy_score(y_test,keras_clf.predict(X_test).argmax(axis=-1))))"
      ],
      "metadata": {
        "colab": {
          "base_uri": "https://localhost:8080/"
        },
        "id": "l_jNGBl1T8fu",
        "outputId": "9aa5f53b-067c-435c-e341-0e35d5f70e6f"
      },
      "execution_count": 16,
      "outputs": [
        {
          "output_type": "stream",
          "name": "stdout",
          "text": [
            "Accuracy: 0.9176\n"
          ]
        }
      ]
    },
    {
      "cell_type": "code",
      "source": [
        "#３のアウトプットノードに関連する重みを全部について、２８＊２８の2-Dに変換\n",
        "plt.imshow(np.reshape(keras_clf.get_weights()[0][:,3],(28,28)),cmap=\"seismic\")"
      ],
      "metadata": {
        "colab": {
          "base_uri": "https://localhost:8080/",
          "height": 283
        },
        "id": "VlfQa1cSVPWL",
        "outputId": "7cbfcfe4-6e2f-4ba0-bc45-7a348e25bf46"
      },
      "execution_count": 17,
      "outputs": [
        {
          "output_type": "execute_result",
          "data": {
            "text/plain": [
              "<matplotlib.image.AxesImage at 0x7fa0e764cbd0>"
            ]
          },
          "metadata": {},
          "execution_count": 17
        },
        {
          "output_type": "display_data",
          "data": {
            "text/plain": [
              "<Figure size 432x288 with 1 Axes>"
            ],
            "image/png": "[encoded data removed]"
          },
          "metadata": {
            "needs_background": "light"
          }
        }
      ]
    },
    {
      "cell_type": "code",
      "source": [
        ""
      ],
      "metadata": {
        "id": "OZMLoVYLX4JM"
      },
      "execution_count": null,
      "outputs": []
    }
  ]
}