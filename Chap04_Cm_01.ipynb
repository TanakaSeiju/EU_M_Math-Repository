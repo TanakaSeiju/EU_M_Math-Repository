{
  "nbformat": 4,
  "nbformat_minor": 0,
  "metadata": {
    "colab": {
      "name": "Chap04_Cm-01.ipynb",
      "provenance": [],
      "authorship_tag": "ABX9TyOeKWQ1BLn3R1sXUX/H8/9c",
      "include_colab_link": true
    },
    "kernelspec": {
      "name": "python3",
      "display_name": "Python 3"
    },
    "language_info": {
      "name": "python"
    }
  },
  "cells": [
    {
      "cell_type": "markdown",
      "metadata": {
        "id": "view-in-github",
        "colab_type": "text"
      },
      "source": [
        "<a href=\"https://colab.research.google.com/github/TanakaSeiju/EU_M_Math-Repository/blob/main/Chap04_Cm_01.ipynb\" target=\"_parent\"><img src=\"https://colab.research.google.com/assets/colab-badge.svg\" alt=\"Open In Colab\"/></a>"
      ]
    },
    {
      "cell_type": "code",
      "execution_count": 2,
      "metadata": {
        "colab": {
          "base_uri": "https://localhost:8080/"
        },
        "id": "8iJqPaSw2hsS",
        "outputId": "90dd6e7d-d00a-4c3c-f671-4eedcf78b41c"
      },
      "outputs": [
        {
          "output_type": "stream",
          "name": "stdout",
          "text": [
            "数学の欠席数の平均: 5.319371727748691\n",
            "ポルトガル語の欠席数の平均: 3.6727748691099475\n",
            "G2のp値 =  2.3441656888384195e-06\n"
          ]
        }
      ],
      "source": [
        "import numpy as np\n",
        "import pandas as pd\n",
        "import matplotlib.pyplot as plt\n",
        "import requests, zipfile\n",
        "from io import StringIO\n",
        "import io\n",
        "import math\n",
        "from scipy import stats\n",
        "\n",
        "url = 'http://archive.ics.uci.edu/ml/machine-learning-databases/00356/student.zip'\n",
        "\n",
        "r = requests.get(url, stream = True)\n",
        "\n",
        "z = zipfile.ZipFile(io.BytesIO(r.content))\n",
        "z.extractall()\n",
        "student_data_math = pd.read_csv(\"student-mat.csv\",sep = \";\")\n",
        "student_data_por = pd.read_csv(\"student-por.csv\",sep = \";\")\n",
        "\n",
        "student_data_merge = pd.merge(student_data_math, student_data_por,\n",
        "                              on = [\"school\", \"sex\", \"age\", \"address\", \"famsize\", \"Pstatus\", \"Medu\",\n",
        "                                        \"Fedu\", \"Mjob\", \"Fjob\", \"reason\", \"nursery\", \"internet\"],\n",
        "                              suffixes = (\"_math\", \"_por\"))\n",
        "\n",
        "print(\"数学の欠席数の平均:\", student_data_merge.absences_math.mean())\n",
        "print(\"ポルトガル語の欠席数の平均:\", student_data_merge.absences_por.mean())\n",
        "\n",
        "t, p = stats.ttest_rel(student_data_merge.absences_math, student_data_merge.absences_por)\n",
        "print(\"G2のp値 = \", p)"
      ]
    },
    {
      "cell_type": "code",
      "source": [
        "#上記より、欠席数に関しては、有意差が1%未満のため、差があると言える。"
      ],
      "metadata": {
        "id": "Awx3lj5K2t_m"
      },
      "execution_count": 3,
      "outputs": []
    },
    {
      "cell_type": "code",
      "source": [
        "print(\"数学の勉強時間の平均:\", student_data_merge.studytime_math.mean())\n",
        "print(\"ポルトガル語の勉強時間の平均:\", student_data_merge.studytime_por.mean())\n",
        "\n",
        "t, p = stats.ttest_rel(student_data_merge.studytime_math, student_data_merge.studytime_por)\n",
        "print(\"G2のp値 = \", p)"
      ],
      "metadata": {
        "colab": {
          "base_uri": "https://localhost:8080/"
        },
        "id": "FsyXohlh3N1N",
        "outputId": "28af4b66-19f5-457a-d2e2-ec401c899031"
      },
      "execution_count": 4,
      "outputs": [
        {
          "output_type": "stream",
          "name": "stdout",
          "text": [
            "数学の勉強時間の平均: 2.0340314136125652\n",
            "ポルトガル語の勉強時間の平均: 2.0392670157068062\n",
            "G2のp値 =  0.5643842756976525\n"
          ]
        }
      ]
    },
    {
      "cell_type": "code",
      "source": [
        "#上記より、勉強時間に関しては、有意差が5%未満ではないので、差があるとは言えない。"
      ],
      "metadata": {
        "id": "4V6Wrkww3QAa"
      },
      "execution_count": null,
      "outputs": []
    }
  ]
}