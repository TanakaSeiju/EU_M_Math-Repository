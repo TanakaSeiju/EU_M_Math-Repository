{
  "nbformat": 4,
  "nbformat_minor": 0,
  "metadata": {
    "colab": {
      "name": "Chap02_Cm-01.ipynb",
      "provenance": [],
      "authorship_tag": "ABX9TyNluNFMJRlB8pEiSrQxC67m",
      "include_colab_link": true
    },
    "kernelspec": {
      "name": "python3",
      "display_name": "Python 3"
    },
    "language_info": {
      "name": "python"
    }
  },
  "cells": [
    {
      "cell_type": "markdown",
      "metadata": {
        "id": "view-in-github",
        "colab_type": "text"
      },
      "source": [
        "<a href=\"https://colab.research.google.com/github/TanakaSeiju/EU_M_Math-Repository/blob/main/Chap02_Cm_01.ipynb\" target=\"_parent\"><img src=\"https://colab.research.google.com/assets/colab-badge.svg\" alt=\"Open In Colab\"/></a>"
      ]
    },
    {
      "cell_type": "code",
      "execution_count": 27,
      "metadata": {
        "id": "78my4_7EGXPr"
      },
      "outputs": [],
      "source": [
        "import math\n",
        "import numpy as np\n",
        "\n",
        "#試行回数\n",
        "N = 10000\n",
        "\n",
        "#乱数の指定\n",
        "x = np.random.uniform(0.0, 1.0, N)\n",
        "y = np.random.uniform(0.0, 1.0, N)\n"
      ]
    },
    {
      "cell_type": "code",
      "source": [
        ""
      ],
      "metadata": {
        "id": "IOwYLJ-Nu5tM"
      },
      "execution_count": null,
      "outputs": []
    }
  ]
}