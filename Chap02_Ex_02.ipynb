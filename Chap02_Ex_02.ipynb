{
  "nbformat": 4,
  "nbformat_minor": 0,
  "metadata": {
    "colab": {
      "name": "Chap02_Ex-02.ipynb",
      "provenance": [],
      "authorship_tag": "ABX9TyOMs+sPTJsAYU1ijYV2ZWCA",
      "include_colab_link": true
    },
    "kernelspec": {
      "name": "python3",
      "display_name": "Python 3"
    },
    "language_info": {
      "name": "python"
    }
  },
  "cells": [
    {
      "cell_type": "markdown",
      "metadata": {
        "id": "view-in-github",
        "colab_type": "text"
      },
      "source": [
        "<a href=\"https://colab.research.google.com/github/TanakaSeiju/EU_M_Math-Repository/blob/main/Chap02_Ex_02.ipynb\" target=\"_parent\"><img src=\"https://colab.research.google.com/assets/colab-badge.svg\" alt=\"Open In Colab\"/></a>"
      ]
    },
    {
      "cell_type": "code",
      "execution_count": null,
      "metadata": {
        "id": "78my4_7EGXPr"
      },
      "outputs": [],
      "source": [
        "import numpy.random as random\n",
        "\n",
        "random.seed (0)\n",
        "\n",
        "random_data = random.randn(10)\n",
        "\n",
        "print(\"max:\", random_data.max())\n",
        "print(\"min:\", random_data.min())\n",
        "print(\"sum:\", random_data.sum())"
      ]
    }
  ]
}