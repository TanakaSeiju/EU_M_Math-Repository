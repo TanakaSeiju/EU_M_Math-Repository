{
  "nbformat": 4,
  "nbformat_minor": 0,
  "metadata": {
    "colab": {
      "name": "Chap02_Ex-06.ipynb",
      "provenance": [],
      "authorship_tag": "ABX9TyP+Zo8cehKjAZ7j3eYq/1z8",
      "include_colab_link": true
    },
    "kernelspec": {
      "name": "python3",
      "display_name": "Python 3"
    },
    "language_info": {
      "name": "python"
    }
  },
  "cells": [
    {
      "cell_type": "markdown",
      "metadata": {
        "id": "view-in-github",
        "colab_type": "text"
      },
      "source": [
        "<a href=\"https://colab.research.google.com/github/TanakaSeiju/EU_M_Math-Repository/blob/main/Chap02_Ex_06.ipynb\" target=\"_parent\"><img src=\"https://colab.research.google.com/assets/colab-badge.svg\" alt=\"Open In Colab\"/></a>"
      ]
    },
    {
      "cell_type": "code",
      "execution_count": 6,
      "metadata": {
        "colab": {
          "base_uri": "https://localhost:8080/"
        },
        "id": "78my4_7EGXPr",
        "outputId": "6d0efc6e-159e-4be5-b767-5e6b2115a060"
      },
      "outputs": [
        {
          "output_type": "stream",
          "name": "stdout",
          "text": [
            "-0.45339765151640365\n"
          ]
        }
      ],
      "source": [
        "from scipy.optimize import newton\n",
        "\n",
        "def my_function(x):\n",
        "  return (x ** 3 + 2 * x + 1)\n",
        "\n",
        "print(newton(my_function, 0))"
      ]
    },
    {
      "cell_type": "code",
      "source": [
        ""
      ],
      "metadata": {
        "id": "qbM-I37FHEpG"
      },
      "execution_count": null,
      "outputs": []
    }
  ]
}