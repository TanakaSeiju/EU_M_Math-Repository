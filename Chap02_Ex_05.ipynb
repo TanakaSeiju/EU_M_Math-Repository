{
  "nbformat": 4,
  "nbformat_minor": 0,
  "metadata": {
    "colab": {
      "name": "Chap02_Ex-05.ipynb",
      "provenance": [],
      "authorship_tag": "ABX9TyO2tqUrTgUEH3xHI8EVv4Up",
      "include_colab_link": true
    },
    "kernelspec": {
      "name": "python3",
      "display_name": "Python 3"
    },
    "language_info": {
      "name": "python"
    }
  },
  "cells": [
    {
      "cell_type": "markdown",
      "metadata": {
        "id": "view-in-github",
        "colab_type": "text"
      },
      "source": [
        "<a href=\"https://colab.research.google.com/github/TanakaSeiju/EU_M_Math-Repository/blob/main/Chap02_Ex_05.ipynb\" target=\"_parent\"><img src=\"https://colab.research.google.com/assets/colab-badge.svg\" alt=\"Open In Colab\"/></a>"
      ]
    },
    {
      "cell_type": "code",
      "execution_count": 5,
      "metadata": {
        "colab": {
          "base_uri": "https://localhost:8080/"
        },
        "id": "78my4_7EGXPr",
        "outputId": "f0b8d125-3541-46c4-d413-d1b9795c4ff6"
      },
      "outputs": [
        {
          "output_type": "stream",
          "name": "stdout",
          "text": [
            "逆行列\n",
            "[[-0.33333333  0.08333333  0.41666667]\n",
            " [-0.33333333  0.58333333 -0.08333333]\n",
            " [ 0.66666667 -0.41666667 -0.08333333]]\n",
            "固有値:\n",
            "[ 6.        +0.j -1.41421356+0.j  1.41421356+0.j]\n",
            "固有ベクトル:\n",
            "[[-0.57735027 -0.72236645  0.16041816]\n",
            " [-0.57735027 -0.14290228 -0.81090869]\n",
            " [-0.57735027  0.67658381  0.56275492]]\n"
          ]
        }
      ],
      "source": [
        "import numpy as np\n",
        "import scipy.linalg as linalg\n",
        "\n",
        "matrix = np.array([[1, 2, 3], [1, 3, 2], [3, 1, 2]])\n",
        "\n",
        "a = linalg.inv(matrix)\n",
        "\n",
        "eiv_values, eiv_vector = linalg.eig(matrix)\n",
        "\n",
        "print(\"逆行列\")\n",
        "print(a)\n",
        "print(\"固有値:\")\n",
        "print(eiv_values)\n",
        "print(\"固有ベクトル:\")\n",
        "print( eiv_vector)"
      ]
    },
    {
      "cell_type": "code",
      "source": [
        ""
      ],
      "metadata": {
        "id": "qbM-I37FHEpG"
      },
      "execution_count": null,
      "outputs": []
    }
  ]
}