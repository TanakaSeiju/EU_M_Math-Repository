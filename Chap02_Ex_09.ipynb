{
  "nbformat": 4,
  "nbformat_minor": 0,
  "metadata": {
    "colab": {
      "name": "Chap02_Ex-09.ipynb",
      "provenance": [],
      "authorship_tag": "ABX9TyOdGoMKGPHbzHxHq7+uGQ+M",
      "include_colab_link": true
    },
    "kernelspec": {
      "name": "python3",
      "display_name": "Python 3"
    },
    "language_info": {
      "name": "python"
    }
  },
  "cells": [
    {
      "cell_type": "markdown",
      "metadata": {
        "id": "view-in-github",
        "colab_type": "text"
      },
      "source": [
        "<a href=\"https://colab.research.google.com/github/TanakaSeiju/EU_M_Math-Repository/blob/main/Chap02_Ex_09.ipynb\" target=\"_parent\"><img src=\"https://colab.research.google.com/assets/colab-badge.svg\" alt=\"Open In Colab\"/></a>"
      ]
    },
    {
      "cell_type": "code",
      "execution_count": 11,
      "metadata": {
        "colab": {
          "base_uri": "https://localhost:8080/"
        },
        "id": "78my4_7EGXPr",
        "outputId": "de324e28-ffd6-4aae-af11-1c30ddd3add2"
      },
      "outputs": [
        {
          "output_type": "stream",
          "name": "stdout",
          "text": [
            "ID          17.0\n",
            "Money      400.0\n",
            "Math        45.0\n",
            "English     50.0\n",
            "dtype: float64\n"
          ]
        },
        {
          "output_type": "stream",
          "name": "stderr",
          "text": [
            "/usr/local/lib/python3.7/dist-packages/ipykernel_launcher.py:18: FutureWarning: Dropping of nuisance columns in DataFrame reductions (with 'numeric_only=None') is deprecated; in a future version this will raise TypeError.  Select only valid columns before calling the reduction.\n"
          ]
        }
      ],
      "source": [
        "from pandas.io.pytables import AttributeConflictWarning\n",
        "from pandas import Series, DataFrame\n",
        "import pandas as pd\n",
        "\n",
        "attri_data1 = {\"ID\" : [\"1\", \"2\", \"3\", \"4\", \"5\"],\n",
        "               \"Sex\" : [\"F\", \"F\", \"M\", \"M\", \"F\",],\n",
        "               \"Money\" : [1000, 2000, 500, 300, 700],\n",
        "               \"Name\" : [\"Saito\", \"Horie\", \"Kondo\", \"Kawada\", \"Matsubara\"]}\n",
        "attri_data_frame1 = DataFrame(attri_data1)\n",
        "\n",
        "attri_data_2 = {\"ID\": [\"3\", \"4\", \"7\"],\n",
        "              \"Math\":[60, 30, 40],\n",
        "              \"English\":[80, 20, 30]}\n",
        "\n",
        "attri_data_frame2 = DataFrame(attri_data_2)\n",
        "\n",
        "attri_data_merge = pd.merge(attri_data_frame1, attri_data_frame2)\n",
        "print(attri_data_merge.mean())"
      ]
    },
    {
      "cell_type": "code",
      "source": [
        ""
      ],
      "metadata": {
        "id": "qbM-I37FHEpG"
      },
      "execution_count": null,
      "outputs": []
    }
  ]
}