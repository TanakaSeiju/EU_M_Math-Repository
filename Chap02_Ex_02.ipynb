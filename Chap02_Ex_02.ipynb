{
  "nbformat": 4,
  "nbformat_minor": 0,
  "metadata": {
    "colab": {
      "name": "Chap02_Ex-02.ipynb",
      "provenance": [],
      "authorship_tag": "ABX9TyNOuLfJkYRKK8tMn5LJP1cw",
      "include_colab_link": true
    },
    "kernelspec": {
      "name": "python3",
      "display_name": "Python 3"
    },
    "language_info": {
      "name": "python"
    }
  },
  "cells": [
    {
      "cell_type": "markdown",
      "metadata": {
        "id": "view-in-github",
        "colab_type": "text"
      },
      "source": [
        "<a href=\"https://colab.research.google.com/github/TanakaSeiju/EU_M_Math-Repository/blob/main/Chap02_Ex_02.ipynb\" target=\"_parent\"><img src=\"https://colab.research.google.com/assets/colab-badge.svg\" alt=\"Open In Colab\"/></a>"
      ]
    },
    {
      "cell_type": "code",
      "execution_count": 2,
      "metadata": {
        "colab": {
          "base_uri": "https://localhost:8080/"
        },
        "id": "78my4_7EGXPr",
        "outputId": "b7369c16-00ee-4009-ff45-ce6c02bf9c9f"
      },
      "outputs": [
        {
          "output_type": "stream",
          "name": "stdout",
          "text": [
            "max: 2.240893199201458\n",
            "min: -0.977277879876411\n",
            "sum: 7.380231707288347\n"
          ]
        }
      ],
      "source": [
        "import numpy.random as random\n",
        "\n",
        "random.seed (0)\n",
        "\n",
        "random_data = random.randn(10)\n",
        "\n",
        "print(\"max:\", random_data.max())\n",
        "print(\"min:\", random_data.min())\n",
        "print(\"sum:\", random_data.sum())"
      ]
    },
    {
      "cell_type": "code",
      "source": [
        ""
      ],
      "metadata": {
        "id": "qbM-I37FHEpG"
      },
      "execution_count": null,
      "outputs": []
    }
  ]
}